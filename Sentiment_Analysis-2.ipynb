{
 "cells": [
  {
   "cell_type": "markdown",
   "id": "e5329976",
   "metadata": {},
   "source": [
    "### Sentiment Analysis Model "
   ]
  },
  {
   "cell_type": "markdown",
   "id": "c6142cb0",
   "metadata": {},
   "source": [
    "#### Import necessary tools"
   ]
  },
  {
   "cell_type": "code",
   "execution_count": 103,
   "id": "f48452fc",
   "metadata": {},
   "outputs": [],
   "source": [
    "import pathlib\n",
    "import nltk\n",
    "import spacy\n",
    "from nltk.sentiment import vader\n",
    "from nltk.sentiment.vader import SentimentIntensityAnalyzer\n",
    "from sklearn.datasets import load_files\n",
    "from sklearn.metrics import classification_report\n",
    "import pandas as pd\n",
    "from sklearn.preprocessing import LabelEncoder\n",
    "#using  VADER and LSTM model for sentiment analysis\n",
    "\n",
    "\n",
    "import re\n",
    "import numpy as np\n",
    "from sklearn.metrics import accuracy_score\n",
    "import math\n",
    "from sklearn.feature_extraction.text import CountVectorizer\n",
    "from collections import defaultdict\n",
    "import pandas as pd\n",
    "import string\n",
    "import nltk\n",
    "from nltk.corpus import stopwords\n",
    "from nltk.stem import WordNetLemmatizer\n"
   ]
  },
  {
   "cell_type": "markdown",
   "id": "3046fa4a",
   "metadata": {},
   "source": [
    "####  Training Dataset "
   ]
  },
  {
   "cell_type": "code",
   "execution_count": 104,
   "id": "d4341739",
   "metadata": {
    "scrolled": true
   },
   "outputs": [],
   "source": [
    "# Import data\n",
    "\n",
    "df_train = pd.read_csv(\"/Volumes/LaCie 1/Toolkit/Mirror/train.csv\",encoding= 'unicode_escape')   \n",
    "\n",
    "df_train.drop(['Country','Age of User','selected_text','Population -2020','Land Area (Km²)','Density (P/Km²)','Time of Tweet','textID'], axis=1)\n",
    "\n",
    "df_train.text=df_train.text.astype(str)"
   ]
  },
  {
   "cell_type": "markdown",
   "id": "91f78970",
   "metadata": {},
   "source": [
    "#### Preprocessing Training data"
   ]
  },
  {
   "cell_type": "code",
   "execution_count": 105,
   "id": "6e88873e",
   "metadata": {},
   "outputs": [],
   "source": [
    "# Load data into a pandas dataframe\n",
    "train_data = df_train \n",
    "\n",
    "# Define function to preprocess text data\n",
    "def preprocess_text(text):\n",
    "    # Convert text to lowercase\n",
    "    text = text.lower()\n",
    "    \n",
    "    # Remove digits\n",
    "    text = re.sub(r'\\d+', '', text)\n",
    "    \n",
    "    # Remove punctuation\n",
    "    text = text.translate(str.maketrans(\"\", \"\", string.punctuation))\n",
    "    \n",
    "    # Tokenize text\n",
    "    tokens = text.split()\n",
    "    \n",
    "    # Remove stopwords\n",
    "    stopwords_english = stopwords.words('english')\n",
    "    tokens = [word for word in tokens if word not in stopwords_english]\n",
    "    \n",
    "    # Lemmatize words\n",
    "    lemmatizer = WordNetLemmatizer()\n",
    "    tokens = [lemmatizer.lemmatize(word) for word in tokens]\n",
    "    \n",
    "    # Join tokens back into a string\n",
    "    text = \" \".join(tokens)\n",
    "    \n",
    "    return text\n",
    "\n",
    "# Preprocess text data in train_data\n",
    "df_train['text'] = df_train['text'].apply(preprocess_text)\n",
    "\n"
   ]
  },
  {
   "cell_type": "markdown",
   "id": "234459b3",
   "metadata": {},
   "source": [
    "#### Test Dataset"
   ]
  },
  {
   "cell_type": "code",
   "execution_count": 106,
   "id": "95468345",
   "metadata": {
    "scrolled": true
   },
   "outputs": [
    {
     "data": {
      "text/html": [
       "<div>\n",
       "<style scoped>\n",
       "    .dataframe tbody tr th:only-of-type {\n",
       "        vertical-align: middle;\n",
       "    }\n",
       "\n",
       "    .dataframe tbody tr th {\n",
       "        vertical-align: top;\n",
       "    }\n",
       "\n",
       "    .dataframe thead th {\n",
       "        text-align: right;\n",
       "    }\n",
       "</style>\n",
       "<table border=\"1\" class=\"dataframe\">\n",
       "  <thead>\n",
       "    <tr style=\"text-align: right;\">\n",
       "      <th></th>\n",
       "      <th>sentence id</th>\n",
       "      <th>text</th>\n",
       "      <th>sentiment</th>\n",
       "    </tr>\n",
       "  </thead>\n",
       "  <tbody>\n",
       "    <tr>\n",
       "      <th>0</th>\n",
       "      <td>0</td>\n",
       "      <td>took eight year warner brother recover disaste...</td>\n",
       "      <td>negative</td>\n",
       "    </tr>\n",
       "    <tr>\n",
       "      <th>1</th>\n",
       "      <td>1</td>\n",
       "      <td>new york university student love diner soho ma...</td>\n",
       "      <td>positive</td>\n",
       "    </tr>\n",
       "    <tr>\n",
       "      <th>2</th>\n",
       "      <td>2</td>\n",
       "      <td>italian place really trendy forgotten importan...</td>\n",
       "      <td>negative</td>\n",
       "    </tr>\n",
       "    <tr>\n",
       "      <th>3</th>\n",
       "      <td>3</td>\n",
       "      <td>conclusion review book would like jane austen ...</td>\n",
       "      <td>positive</td>\n",
       "    </tr>\n",
       "    <tr>\n",
       "      <th>4</th>\n",
       "      <td>4</td>\n",
       "      <td>story movie focused carl brashear played cuba ...</td>\n",
       "      <td>neutral</td>\n",
       "    </tr>\n",
       "    <tr>\n",
       "      <th>5</th>\n",
       "      <td>5</td>\n",
       "      <td>chris odonnell stated filming movie felt like ...</td>\n",
       "      <td>neutral</td>\n",
       "    </tr>\n",
       "    <tr>\n",
       "      <th>6</th>\n",
       "      <td>6</td>\n",
       "      <td>husband moved amsterdam year ago long lived bl...</td>\n",
       "      <td>positive</td>\n",
       "    </tr>\n",
       "    <tr>\n",
       "      <th>7</th>\n",
       "      <td>7</td>\n",
       "      <td>dame maggie smith performed role excellently m...</td>\n",
       "      <td>positive</td>\n",
       "    </tr>\n",
       "    <tr>\n",
       "      <th>8</th>\n",
       "      <td>8</td>\n",
       "      <td>new movie mr kruno shot new york story take pl...</td>\n",
       "      <td>neutral</td>\n",
       "    </tr>\n",
       "    <tr>\n",
       "      <th>9</th>\n",
       "      <td>9</td>\n",
       "      <td>always loved english novel couldnt get one</td>\n",
       "      <td>negative</td>\n",
       "    </tr>\n",
       "  </tbody>\n",
       "</table>\n",
       "</div>"
      ],
      "text/plain": [
       "   sentence id                                               text sentiment\n",
       "0            0  took eight year warner brother recover disaste...  negative\n",
       "1            1  new york university student love diner soho ma...  positive\n",
       "2            2  italian place really trendy forgotten importan...  negative\n",
       "3            3  conclusion review book would like jane austen ...  positive\n",
       "4            4  story movie focused carl brashear played cuba ...   neutral\n",
       "5            5  chris odonnell stated filming movie felt like ...   neutral\n",
       "6            6  husband moved amsterdam year ago long lived bl...  positive\n",
       "7            7  dame maggie smith performed role excellently m...  positive\n",
       "8            8  new movie mr kruno shot new york story take pl...   neutral\n",
       "9            9         always loved english novel couldnt get one  negative"
      ]
     },
     "execution_count": 106,
     "metadata": {},
     "output_type": "execute_result"
    }
   ],
   "source": [
    "df_test = pd.read_csv('/Volumes/LaCie 1/Toolkit/Mirror/TM_project/sentiment-topic-final-test.tsv', sep='\\t')\n",
    "df_test['text'] = df_test['text'].apply(preprocess_text)\n",
    "df_test.drop(['topic'], axis=1)"
   ]
  },
  {
   "cell_type": "markdown",
   "id": "1442fa32",
   "metadata": {},
   "source": [
    "### Training the model using Naive Bayes Classifier"
   ]
  },
  {
   "cell_type": "code",
   "execution_count": 107,
   "id": "a81522a4",
   "metadata": {
    "scrolled": true
   },
   "outputs": [
    {
     "name": "stdout",
     "output_type": "stream",
     "text": [
      "Accuracy: 0.6\n",
      "Precision: 0.4166666666666667\n",
      "Recall: 0.5833333333333334\n",
      "F1-score: 0.47222222222222215\n",
      "              precision    recall  f1-score   support\n",
      "\n",
      "    negative       0.00      0.00      0.00         3\n",
      "     neutral       0.50      1.00      0.67         3\n",
      "    positive       0.75      0.75      0.75         4\n",
      "\n",
      "    accuracy                           0.60        10\n",
      "   macro avg       0.42      0.58      0.47        10\n",
      "weighted avg       0.45      0.60      0.50        10\n",
      "\n"
     ]
    },
    {
     "name": "stderr",
     "output_type": "stream",
     "text": [
      "/Users/elisadeandrade/opt/anaconda3/lib/python3.9/site-packages/sklearn/metrics/_classification.py:1318: UndefinedMetricWarning: Precision is ill-defined and being set to 0.0 in labels with no predicted samples. Use `zero_division` parameter to control this behavior.\n",
      "  _warn_prf(average, modifier, msg_start, len(result))\n",
      "/Users/elisadeandrade/opt/anaconda3/lib/python3.9/site-packages/sklearn/metrics/_classification.py:1318: UndefinedMetricWarning: Precision and F-score are ill-defined and being set to 0.0 in labels with no predicted samples. Use `zero_division` parameter to control this behavior.\n",
      "  _warn_prf(average, modifier, msg_start, len(result))\n",
      "/Users/elisadeandrade/opt/anaconda3/lib/python3.9/site-packages/sklearn/metrics/_classification.py:1318: UndefinedMetricWarning: Precision and F-score are ill-defined and being set to 0.0 in labels with no predicted samples. Use `zero_division` parameter to control this behavior.\n",
      "  _warn_prf(average, modifier, msg_start, len(result))\n",
      "/Users/elisadeandrade/opt/anaconda3/lib/python3.9/site-packages/sklearn/metrics/_classification.py:1318: UndefinedMetricWarning: Precision and F-score are ill-defined and being set to 0.0 in labels with no predicted samples. Use `zero_division` parameter to control this behavior.\n",
      "  _warn_prf(average, modifier, msg_start, len(result))\n"
     ]
    }
   ],
   "source": [
    "import pandas as pd\n",
    "import re\n",
    "from sklearn.feature_extraction.text import CountVectorizer\n",
    "from sklearn.naive_bayes import MultinomialNB\n",
    "from sklearn.metrics import accuracy_score, precision_score, recall_score, f1_score\n",
    "\n",
    "# Load and preprocess the data\n",
    "df_train['text'] = df_train['text'].apply(lambda x: re.sub(r'[^\\w\\s]', '', x.lower()))\n",
    "df_test['text'] = df_test['text'].apply(lambda x: re.sub(r'[^\\w\\s]', '', x.lower()))\n",
    "\n",
    "# Generate feature vectors\n",
    "vectorizer = CountVectorizer(stop_words='english')\n",
    "X_train = vectorizer.fit_transform(df_train['text'])\n",
    "X_test = vectorizer.transform(df_test['text'])\n",
    "y_train = df_train['sentiment']\n",
    "y_test = df_test['sentiment']\n",
    "\n",
    "# Train the model\n",
    "nb_classifier = MultinomialNB()\n",
    "nb_classifier.fit(X_train, y_train)\n",
    "\n",
    "# Test the model\n",
    "y_pred_nb = nb_classifier.predict(X_test)\n",
    "print(\"Accuracy:\", accuracy_score(y_test, y_pred_nb))\n",
    "print(\"Precision:\", precision_score(y_test, y_pred_nb, average='macro'))\n",
    "print(\"Recall:\", recall_score(y_test, y_pred_nb, average='macro'))\n",
    "print(\"F1-score:\", f1_score(y_test, y_pred_nb, average='macro'))\n",
    "print(classification_report(y_test, y_pred_nb))"
   ]
  },
  {
   "cell_type": "markdown",
   "id": "ca41d1cb",
   "metadata": {},
   "source": [
    "##### Confusion Matrix: Naive Bayes Classifier"
   ]
  },
  {
   "cell_type": "code",
   "execution_count": 139,
   "id": "b247f829",
   "metadata": {},
   "outputs": [
    {
     "data": {
      "image/png": "[encoded data removed]",
      "text/plain": [
       "<Figure size 640x480 with 2 Axes>"
      ]
     },
     "metadata": {},
     "output_type": "display_data"
    }
   ],
   "source": [
    "from sklearn.metrics import confusion_matrix\n",
    "import seaborn as sns\n",
    "import matplotlib.pyplot as plt\n",
    "from sklearn.metrics import confusion_matrix\n",
    "\n",
    "#NAIVE BAYES\n",
    "cm = confusion_matrix(y_test, y_pred_nb)\n",
    "\n",
    "# create heatmap\n",
    "sns.heatmap(cm, annot=True, cmap=\"Blues\", fmt=\"d\", xticklabels=['negative', 'neutral', 'positive'], yticklabels=['negative', 'neutral', 'positive'])\n",
    "\n",
    "plt.title('Naive Bayes')\n",
    "plt.xlabel('Predicted Label')\n",
    "plt.ylabel('True Label')\n",
    "plt.show()"
   ]
  },
  {
   "cell_type": "markdown",
   "id": "c6c7ef5c",
   "metadata": {},
   "source": [
    "##### Reasoning behind the Naive Bayes Classifier"
   ]
  },
  {
   "cell_type": "markdown",
   "id": "88b3fb19",
   "metadata": {},
   "source": [
    "Naive Bayes is very effective for classifying texts since it is quick, needs minimal training data, and can handle a lot of characteristics. We selected Naive Bayes for our project because it is a well-liked and efficient algorithm for text classification  and it works well on a variety of datasets. Moreover, Naive Bayes is a suitable option for exploratory data analysis and experimentation since it is straightforward to apply and understand."
   ]
  },
  {
   "cell_type": "markdown",
   "id": "63ad205f",
   "metadata": {},
   "source": [
    "### Sentiment Analysis using VADER"
   ]
  },
  {
   "cell_type": "code",
   "execution_count": 108,
   "id": "0e7f2d73",
   "metadata": {},
   "outputs": [
    {
     "name": "stdout",
     "output_type": "stream",
     "text": [
      "Accuracy: 0.7\n",
      "Precision: 0.7857142857142857\n",
      "Recall: 0.8333333333333333\n",
      "F1-score: 0.7636363636363637\n",
      "              precision    recall  f1-score   support\n",
      "\n",
      "    negative       1.00      0.67      0.80         3\n",
      "     neutral       1.00      0.33      0.50         3\n",
      "    positive       0.57      1.00      0.73         4\n",
      "\n",
      "    accuracy                           0.70        10\n",
      "   macro avg       0.86      0.67      0.68        10\n",
      "weighted avg       0.83      0.70      0.68        10\n",
      "\n"
     ]
    }
   ],
   "source": [
    "import pandas as pd\n",
    "from nltk.sentiment.vader import SentimentIntensityAnalyzer\n",
    "from sklearn.metrics import accuracy_score, precision_score, recall_score, f1_score\n",
    "\n",
    "# Load and preprocess the data\n",
    "\n",
    "df_train['text'] = df_train['text'].apply(lambda x: x.lower())\n",
    "df_test['text'] = df_test['text'].apply(lambda x: x.lower())\n",
    "\n",
    "# Train the model\n",
    "sid = SentimentIntensityAnalyzer()\n",
    "df_train['predicted_sentiment'] = df_train['text'].apply(lambda x: sid.polarity_scores(x)['compound'])\n",
    "\n",
    "# Test the model\n",
    "df_test['predicted_sentiment'] = df_test['text'].apply(lambda x: sid.polarity_scores(x)['compound'])\n",
    "y_true = df_test['sentiment']\n",
    "y_pred_vader = df_test['predicted_sentiment'].apply(lambda x: 'positive' if x > 0 else 'negative' if x < 0 else 'neutral')\n",
    "\n",
    "# Evaluate the model\n",
    "print(\"Accuracy:\", accuracy_score(y_true, y_pred_vader))\n",
    "print(\"Precision:\", precision_score(y_true, y_pred_vader, average='macro', labels=['positive', 'negative']))\n",
    "print(\"Recall:\", recall_score(y_true, y_pred_vader, average='macro', labels=['positive', 'negative']))\n",
    "print(\"F1-score:\", f1_score(y_true, y_pred_vader, average='macro', labels=['positive', 'negative']))\n",
    "print(classification_report(y_true, y_pred_vader))\n",
    "\n",
    "\n"
   ]
  },
  {
   "cell_type": "code",
   "execution_count": 42,
   "id": "2803fa59",
   "metadata": {},
   "outputs": [
    {
     "name": "stdout",
     "output_type": "stream",
     "text": [
      "Collecting textblob\n",
      "  Downloading textblob-0.17.1-py2.py3-none-any.whl (636 kB)\n",
      "\u001b[2K     \u001b[90m━━━━━━━━━━━━━━━━━━━━━━━━━━━━━━━━━━━━━━━\u001b[0m \u001b[32m636.8/636.8 kB\u001b[0m \u001b[31m6.2 MB/s\u001b[0m eta \u001b[36m0:00:00\u001b[0ma \u001b[36m0:00:01\u001b[0m\n",
      "\u001b[?25hRequirement already satisfied: nltk>=3.1 in /Users/elisadeandrade/opt/anaconda3/lib/python3.9/site-packages (from textblob) (3.7)\n",
      "Requirement already satisfied: regex>=2021.8.3 in /Users/elisadeandrade/opt/anaconda3/lib/python3.9/site-packages (from nltk>=3.1->textblob) (2022.7.9)\n",
      "Requirement already satisfied: click in /Users/elisadeandrade/opt/anaconda3/lib/python3.9/site-packages (from nltk>=3.1->textblob) (7.1.2)\n",
      "Requirement already satisfied: tqdm in /Users/elisadeandrade/opt/anaconda3/lib/python3.9/site-packages (from nltk>=3.1->textblob) (4.64.1)\n",
      "Requirement already satisfied: joblib in /Users/elisadeandrade/opt/anaconda3/lib/python3.9/site-packages (from nltk>=3.1->textblob) (1.1.0)\n",
      "Installing collected packages: textblob\n",
      "Successfully installed textblob-0.17.1\n"
     ]
    }
   ],
   "source": [
    "!pip3 install textblob\n"
   ]
  },
  {
   "cell_type": "markdown",
   "id": "06f53902",
   "metadata": {},
   "source": [
    "##### Confusion Matrix: VADER"
   ]
  },
  {
   "cell_type": "code",
   "execution_count": 140,
   "id": "6a4d0009",
   "metadata": {},
   "outputs": [
    {
     "data": {
      "image/png": "[encoded data removed]",
      "text/plain": [
       "<Figure size 640x480 with 2 Axes>"
      ]
     },
     "metadata": {},
     "output_type": "display_data"
    }
   ],
   "source": [
    "#VADER\n",
    "cm = confusion_matrix(y_test, y_pred_vader)\n",
    "\n",
    "# create heatmap\n",
    "sns.heatmap(cm, annot=True, cmap=\"Blues\", fmt=\"d\", xticklabels=['negative', 'neutral', 'positive'], yticklabels=['negative', 'neutral', 'positive'])\n",
    "\n",
    "plt.title('VADER')\n",
    "plt.xlabel('Predicted Label')\n",
    "plt.ylabel('True Label')\n",
    "plt.show()"
   ]
  },
  {
   "cell_type": "markdown",
   "id": "9a9383e2",
   "metadata": {},
   "source": [
    "##### Reasoning behind using VADER"
   ]
  },
  {
   "cell_type": "markdown",
   "id": "15f28db4",
   "metadata": {},
   "source": [
    "A rule-based tool called VADER (Valence Aware Dictionary and Sentiment Reasoner) was created with the express purpose of analyzing sentiment in social media texts like tweets and Facebook postings. It is a well-liked option for sentiment analysis since it can handle emojis, which are often used in social media and informal language. \n",
    "The capacity of VADER to determine the strength of feeling in a text in addition to its positive, negative, or neutral polarity is one of its key advantages. This is accomplished by using an emotion intensity analyzer, which rates each word in the text from -1 (most negatively) to +1 (most positively). After that, these results are combined to get an overall score for the text.\n",
    "\n",
    "In general, VADER's ability to interact with social media texts and reliably assess the intensity and polarity of sentiment in a vast volume of data was the deciding factor in our decision to utilize it for this project."
   ]
  },
  {
   "cell_type": "markdown",
   "id": "782c347d",
   "metadata": {},
   "source": [
    "### Sentiment Analysis using TextBlob"
   ]
  },
  {
   "cell_type": "code",
   "execution_count": 122,
   "id": "c23b82bd",
   "metadata": {},
   "outputs": [
    {
     "name": "stdout",
     "output_type": "stream",
     "text": [
      "Accuracy: 0.5\n",
      "Precision: 0.25\n",
      "Recall: 0.5\n",
      "F1-score: 0.3333333333333333\n",
      "              precision    recall  f1-score   support\n",
      "\n",
      "    negative       0.00      0.00      0.00         3\n",
      "     neutral       0.50      0.33      0.40         3\n",
      "    positive       0.50      1.00      0.67         4\n",
      "\n",
      "    accuracy                           0.50        10\n",
      "   macro avg       0.33      0.44      0.36        10\n",
      "weighted avg       0.35      0.50      0.39        10\n",
      "\n"
     ]
    },
    {
     "name": "stderr",
     "output_type": "stream",
     "text": [
      "/Users/elisadeandrade/opt/anaconda3/lib/python3.9/site-packages/sklearn/metrics/_classification.py:1318: UndefinedMetricWarning: Precision is ill-defined and being set to 0.0 in labels with no predicted samples. Use `zero_division` parameter to control this behavior.\n",
      "  _warn_prf(average, modifier, msg_start, len(result))\n",
      "/Users/elisadeandrade/opt/anaconda3/lib/python3.9/site-packages/sklearn/metrics/_classification.py:1318: UndefinedMetricWarning: Precision and F-score are ill-defined and being set to 0.0 in labels with no predicted samples. Use `zero_division` parameter to control this behavior.\n",
      "  _warn_prf(average, modifier, msg_start, len(result))\n",
      "/Users/elisadeandrade/opt/anaconda3/lib/python3.9/site-packages/sklearn/metrics/_classification.py:1318: UndefinedMetricWarning: Precision and F-score are ill-defined and being set to 0.0 in labels with no predicted samples. Use `zero_division` parameter to control this behavior.\n",
      "  _warn_prf(average, modifier, msg_start, len(result))\n",
      "/Users/elisadeandrade/opt/anaconda3/lib/python3.9/site-packages/sklearn/metrics/_classification.py:1318: UndefinedMetricWarning: Precision and F-score are ill-defined and being set to 0.0 in labels with no predicted samples. Use `zero_division` parameter to control this behavior.\n",
      "  _warn_prf(average, modifier, msg_start, len(result))\n"
     ]
    }
   ],
   "source": [
    "import pandas as pd\n",
    "from textblob import TextBlob\n",
    "from sklearn.metrics import accuracy_score, precision_score, recall_score, f1_score, classification_report\n",
    "\n",
    "# Load and preprocess the data\n",
    "df_train['text'] = df_train['text'].apply(lambda x: x.lower())\n",
    "df_test['text'] = df_test['text'].apply(lambda x: x.lower())\n",
    "\n",
    "# Train the model\n",
    "df_train['predicted_sentiment'] = df_train['text'].apply(lambda x: TextBlob(x).sentiment.polarity)\n",
    "\n",
    "# Test the model\n",
    "df_test['predicted_sentiment'] = df_test['text'].apply(lambda x: TextBlob(x).sentiment.polarity)\n",
    "y_true = df_test['sentiment']\n",
    "y_pred_textblob = df_test['predicted_sentiment'].apply(lambda x: 'positive' if x > 0 else 'negative' if x < 0 else 'neutral')\n",
    "\n",
    "# Evaluate the model\n",
    "print(\"Accuracy:\", accuracy_score(y_true, y_pred_textblob))\n",
    "print(\"Precision:\", precision_score(y_true, y_pred_textblob, average='macro', labels=['positive', 'negative']))\n",
    "print(\"Recall:\", recall_score(y_true, y_pred_textblob, average='macro', labels=['positive', 'negative']))\n",
    "print(\"F1-score:\", f1_score(y_true, y_pred_textblob, average='macro', labels=['positive', 'negative']))\n",
    "print(classification_report(y_true, y_pred_textblob))\n",
    "\n",
    "\n"
   ]
  },
  {
   "cell_type": "markdown",
   "id": "efa0602f",
   "metadata": {},
   "source": [
    "##### Confusion Matrix: TextBlob"
   ]
  },
  {
   "cell_type": "code",
   "execution_count": 141,
   "id": "8543967d",
   "metadata": {},
   "outputs": [
    {
     "data": {
      "image/png": "[encoded data removed]",
      "text/plain": [
       "<Figure size 640x480 with 2 Axes>"
      ]
     },
     "metadata": {},
     "output_type": "display_data"
    }
   ],
   "source": [
    "#TEXTBLOB\n",
    "cm = confusion_matrix(y_test, y_pred_textblob)\n",
    "\n",
    "# create heatmap\n",
    "sns.heatmap(cm, annot=True, cmap=\"Blues\", fmt=\"d\", xticklabels=['negative', 'neutral', 'positive'], yticklabels=['negative', 'neutral', 'positive'])\n",
    "\n",
    "plt.title('TextBlob')\n",
    "plt.xlabel('Predicted Label')\n",
    "plt.ylabel('True Label')\n",
    "plt.show()"
   ]
  },
  {
   "cell_type": "markdown",
   "id": "1d94024e",
   "metadata": {},
   "source": [
    "##### Reasoning behind using TextBlob"
   ]
  },
  {
   "cell_type": "markdown",
   "id": "974aef19",
   "metadata": {},
   "source": [
    "TextBlob offers easy-to-use tools for sentiment analysis and other natural language processing operations. TextBlob's simplicity and ease of use are two advantages for sentiment analysis. For sentiment analysis on text, TextBlob offers a clear and straightforward API, making it a fantastic option for novices or those searching for a simple fix. The Natural Language Toolkit (NLTK) package, which offers a variety of tools for natural language processing, including tokenization, part-of-speech tagging, and named entity identification, is another advantage of TextBlob. As a result, TextBlob may be quickly and simply incorporated into other NLP workflows and tools.\n",
    "Overall, TextBlob is a strong option for sentiment analysis in tasks requiring a straightforward and user-friendly solution as well as those requiring integration with other NLP tools and workflows. Because its pre-trained classifiers can be used to swiftly and efficiently assess sentiment without the need for large training data, it is also a viable alternative for projects with just limited datasets, which is why we chose it."
   ]
  },
  {
   "cell_type": "markdown",
   "id": "11cc4288",
   "metadata": {},
   "source": [
    "### Error Analysis "
   ]
  },
  {
   "cell_type": "markdown",
   "id": "390970cd",
   "metadata": {},
   "source": [
    "##### Model Comparison"
   ]
  },
  {
   "cell_type": "code",
   "execution_count": 137,
   "id": "9c63f79e",
   "metadata": {},
   "outputs": [
    {
     "name": "stderr",
     "output_type": "stream",
     "text": [
      "/Users/elisadeandrade/opt/anaconda3/lib/python3.9/site-packages/sklearn/metrics/_classification.py:1318: UndefinedMetricWarning: Precision is ill-defined and being set to 0.0 in labels with no predicted samples. Use `zero_division` parameter to control this behavior.\n",
      "  _warn_prf(average, modifier, msg_start, len(result))\n",
      "/Users/elisadeandrade/opt/anaconda3/lib/python3.9/site-packages/sklearn/metrics/_classification.py:1318: UndefinedMetricWarning: Precision is ill-defined and being set to 0.0 in labels with no predicted samples. Use `zero_division` parameter to control this behavior.\n",
      "  _warn_prf(average, modifier, msg_start, len(result))\n"
     ]
    },
    {
     "data": {
      "image/png": "[encoded data removed]",
      "text/plain": [
       "<Figure size 640x480 with 1 Axes>"
      ]
     },
     "metadata": {},
     "output_type": "display_data"
    }
   ],
   "source": [
    "import matplotlib.pyplot as plt\n",
    "import numpy as np\n",
    "\n",
    "# define the models and their respective scores\n",
    "models = ['Naive Bayes', 'TextBlob', 'VADER']\n",
    "precisions = [precision_score(y_test, y_pred_nb, average='macro'), precision_score(y_true, y_pred_textblob, average='macro', labels=['positive', 'negative']), precision_score(y_true, y_pred_vader, average='macro', labels=['positive', 'negative'])]\n",
    "recalls = [ recall_score(y_test, y_pred_nb, average='macro'), recall_score(y_true, y_pred_textblob, average='macro', labels=['positive', 'negative']),recall_score(y_true, y_pred_textblob, average='macro', labels=['positive', 'negative']) ]\n",
    "accuracies = [accuracy_score(y_test, y_pred_nb), accuracy_score(y_true, y_pred_textblob), accuracy_score(y_true, y_pred_vader)]\n",
    "f1_scores = [f1_score(y_test, y_pred_nb, average='macro'), f1_score(y_true, y_pred_textblob, average='macro', labels=['positive', 'negative']), f1_score(y_true, y_pred_vader, average='macro', labels=['positive', 'negative'])]\n",
    "\n",
    "# set the width of the bars\n",
    "barWidth = 0.2\n",
    "\n",
    "# set the positions of the bars on the x-axis\n",
    "r1 = np.arange(len(precisions))\n",
    "r2 = [x + barWidth for x in r1]\n",
    "r3 = [x + barWidth for x in r2]\n",
    "r4 = [x + barWidth for x in r3]\n",
    "\n",
    "# create the bar chart\n",
    "plt.bar(r1, precisions, color='#7f6d5f', width=barWidth, edgecolor='white', label='Precision')\n",
    "plt.bar(r2, recalls, color='#557f2d', width=barWidth, edgecolor='white', label='Recall')\n",
    "plt.bar(r3, accuracies, color='#2d7f5e', width=barWidth, edgecolor='white', label='Accuracy')\n",
    "plt.bar(r4, f1_scores, color='#8c72b3', width=barWidth, edgecolor='white', label='F1 Score')\n",
    "\n",
    "# add x-axis ticks and labels\n",
    "plt.xticks([r + barWidth for r in range(len(precisions))], models)\n",
    "\n",
    "# add y-axis label and legend\n",
    "plt.ylabel('Scores')\n",
    "plt.legend()\n",
    "\n",
    "# set the chart title\n",
    "plt.title('Model Comparison')\n",
    "\n",
    "# show the chart\n",
    "plt.show()"
   ]
  },
  {
   "cell_type": "markdown",
   "id": "068f1bf5",
   "metadata": {},
   "source": [
    "##### Conclusion"
   ]
  },
  {
   "cell_type": "markdown",
   "id": "b9c96d79",
   "metadata": {},
   "source": [
    "When comparing the performance of the three sentiment analysis models, namely Naive Bayes, VADER, and TextBlob, we can observe some notable differences in their accuracy, precision, recall, and F1-score metrics. \n",
    "\n",
    "First off, the Naive Bayes model identified 60% of the test data correctly, achieving an accuracy of 0.6. However with a precision of only 0.42, it was clear that only 42% of the projected positive sentiment labels were in fact positive. However, based on its recall score of 0.58, it appears to have missed a sizable number of instances of positive sentiment in the data. Finally, the F1-score of 0.47 is quite low, showing that the overall performance of this model was poor.\n",
    "\n",
    "Secondly, with an accuracy of 0.7, the VADER model outperformed the Naive Bayes model and accurately identified 70% of the test data. With a precision of 0.79, it was also more accurate, properly identifying 79% of all instances of positive sentiment. With a recall score of 0.83, it appears to have been successful in finding a significant number of occurrences of positive sentiment in the data. The F1-score of 0.76 shows that this model performed more effectively overall than the Naive Bayes model.\n",
    "\n",
    "The TextBlob model, which achieved an accuracy of only 0.5 and accurately identified only half of the test data, had the worst performance overall. With a precision of 0.25, it also had the lowest accuracy of the three models, meaning that only 25% of the positive sentiment labels it predicted were indeed positive. Nonetheless, based on its recall score of 0.5, it appears to have correctly identified 50% of the data's positive sentiment instances. Last but not least, the F1-score of 0.33 shows that this model performed much worse overall than the other two models.\n",
    "\n",
    "In conclusion, we can say that the VADER model performed the best among the three models, followed by Naive Bayes and then TextBlob, based on the comparison of the accuracy, precision, recall, and F1-score metrics. VADER would therefore be suggested as the preferred option in a project requiring sentiment analysis because of its superior accuracy and precision."
   ]
  },
  {
   "cell_type": "markdown",
   "id": "bc9ae759",
   "metadata": {},
   "source": [
    "##### Possible solutions"
   ]
  },
  {
   "cell_type": "markdown",
   "id": "5fe6e44a",
   "metadata": {},
   "source": [
    "Based on the results of the three sentiment analysis models, the following are some potential ways to boost the effectiveness of the models:\n",
    "\n",
    "1) Improve the dataset: The quality of the dataset has a significant impact on how well the models function. The accuracy and generalizability of the models might be enhanced by gathering more representative and diverse data.\n",
    "\n",
    "2) Employing a machine learning algorithm that is more sophisticated: While support vector machines, random forests, and deep learning models are more complex machine learning algorithms than Naive Bayes and TextBlob, they may be able to handle the sentiment analysis task more effectively.\n",
    "\n",
    "3) Integrate domain-specific knowledge: The performance of the models could be enhanced by integrating domain-specific knowledge, such as specialized dictionaries or lexicons. Improve the models' performance by adjusting their hyperparameters or by fine-tuning models that have already been trained for a particular sentiment analysis task using transfer learning approaches.\n",
    "\n",
    "4) Group learning: The accuracy and robustness of the sentiment analysis task may have been increased by combining the predictions of various models using ensemble learning approaches.\n",
    "\n",
    "It is crucial to remember that our decision to use the solutions we did was influenced by a shortage of time; but, given additional time, we may have further enhanced this and considered other solutions."
   ]
  },
  {
   "cell_type": "markdown",
   "id": "2dfa2d19",
   "metadata": {},
   "source": [
    "### References "
   ]
  },
  {
   "cell_type": "markdown",
   "id": "348affcd",
   "metadata": {},
   "source": [
    "***Dataset for training:*** "
   ]
  },
  {
   "cell_type": "markdown",
   "id": "69bcdc74",
   "metadata": {},
   "source": [
    "https://www.kaggle.com/competitions/tweet-sentiment-extraction/data?select=train.csv"
   ]
  },
  {
   "cell_type": "markdown",
   "id": "623d8463",
   "metadata": {},
   "source": [
    "***Theory from the lectures:***"
   ]
  },
  {
   "cell_type": "markdown",
   "id": "60eeb587",
   "metadata": {},
   "source": [
    "Natural Language Processing & Machine learning Lecture 3 Part 1 Pages: 8,12,31,32,55,56"
   ]
  }
 ],
 "metadata": {
  "kernelspec": {
   "display_name": "Python 3 (ipykernel)",
   "language": "python",
   "name": "python3"
  },
  "language_info": {
   "codemirror_mode": {
    "name": "ipython",
    "version": 3
   },
   "file_extension": ".py",
   "mimetype": "text/x-python",
   "name": "python",
   "nbconvert_exporter": "python",
   "pygments_lexer": "ipython3",
   "version": "3.10.7"
  }
 },
 "nbformat": 4,
 "nbformat_minor": 5
}
