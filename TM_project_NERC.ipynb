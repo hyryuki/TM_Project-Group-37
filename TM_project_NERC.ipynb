{
  "cells": [
    {
      "cell_type": "markdown",
      "id": "faf951c3",
      "metadata": {
        "id": "faf951c3"
      },
      "source": [
        "# NERC analysis\n",
        "\n"
      ]
    },
    {
      "cell_type": "markdown",
      "id": "10d85e87",
      "metadata": {
        "id": "10d85e87"
      },
      "source": [
        "## NERC Analysis motivation"
      ]
    },
    {
      "cell_type": "markdown",
      "source": [
        "Named Entity Recognition (NER) is a subtask of Natural Language Processing (NLP) that focuses on identifying and extracting named entities from unstructured text data. Named entities are objects, people, organizations, locations, and other specific things that have names. NER is used in various applications such as information retrieval, question answering, and text summarization. It's particularly useful for quickly extracting key information from large amounts of data because it automates the extraction process. NER is applied by training a machine learning model on a labeled dataset that contains examples of named entities and their corresponding labels. The model then uses this training data to identify named entities in new, unseen text data. NER can be a challenging task due to the ambiguity and variability of named entities in natural language, but it is an essential component of many NLP applications.\n",
        "\n",
        "* https://www.techtarget.com/whatis/definition/named-entity-recognition-NER#:~:text=NER%20identifies%2C%20categorizes%20and%20extracts,it%20automates%20the%20extraction%20process.\n",
        "* https://ijarcce.com/upload/2017/february-17/IJARCCE%2060.pdf"
      ],
      "metadata": {
        "id": "fJh0M3aIQyjy"
      },
      "id": "fJh0M3aIQyjy"
    },
    {
      "cell_type": "markdown",
      "source": [
        "### Dataset description\n"
      ],
      "metadata": {
        "id": "RdAZ7cWuRVJt"
      },
      "id": "RdAZ7cWuRVJt"
    },
    {
      "cell_type": "markdown",
      "source": [
        "- Used dataset for NERC analysis CrossWeigh: https://github.com/ZihanWangKi/CrossWeigh/blob/master/data/conllpp_train.txt. Crossweigh manually corrected the mistakes in the test set to form a cleaner benchmark and the developed framework Crossweigh handles the mistakes in the training set.\n",
        "- This training set contains 203621 instances where the majority of the training set consists of O-tags. The distribution of the training labels is plotted in a pie chart shown down below. \n",
        "- The other golden labels (the labels that the NERC model should learn predict) from are: B-LOC (3.5%), B-PER (3.2%), B-ORG (3.1%), I-PER (2.2%), I-ORG (1.8%), B-MISC (1,7%), I-LOC (0.6%), I-MISC (0.6%).\n",
        "- This shows that the training set is not balanced, there are far more O-labels. \n"
      ],
      "metadata": {
        "id": "czEIllj6RhkC"
      },
      "id": "czEIllj6RhkC"
    },
    {
      "cell_type": "markdown",
      "source": [
        "### Method\n",
        "- First the test set is cleaned by removing unused columns such as sentence id and token id. Then the names of the columns are changed to match with the nltk.corpus of the training set. The code that is applied is from lab4.\n",
        "- After computing the nltk.corpus for the test set,  spaCy is used to predict the unknown labels for this dataset.\n",
        "- The train and test features are concatenated into one list after the label prediction for the test set and then split back into training and test. \n",
        "- A SVM is trained afterwards using the train features and labels and the test data is evaluated. "
      ],
      "metadata": {
        "id": "VnGwbb0qVs6w"
      },
      "id": "VnGwbb0qVs6w"
    },
    {
      "cell_type": "markdown",
      "source": [
        "### Error Analysis\n",
        "- The classification report shows an accuracy of 0.93. However, the test set is relatively small and it consists mainly of O's, this label is well predicted with a recall of 0.95, precision of 0.99 and f1-score of 0.97. The other labels are not well predicted, they have lower recall, predicision and f1-scores. This results in a low macro average. \n",
        "- So we should keep in mind that although the accuracy of this model is high, the performance is not necessarily good. From the obtained results, we could conclude that this model is good at detecting \"O\" labels but not as good as predicting the other labels."
      ],
      "metadata": {
        "id": "TtvslN1EYFay"
      },
      "id": "TtvslN1EYFay"
    },
    {
      "cell_type": "markdown",
      "id": "b5cda237",
      "metadata": {
        "id": "b5cda237"
      },
      "source": [
        "### Imports and installs"
      ]
    },
    {
      "cell_type": "code",
      "execution_count": 1,
      "id": "0c703d04",
      "metadata": {
        "colab": {
          "base_uri": "https://localhost:8080/"
        },
        "id": "0c703d04",
        "outputId": "e739b38e-5dd8-43c0-945f-50c9f780893f"
      },
      "outputs": [
        {
          "output_type": "stream",
          "name": "stdout",
          "text": [
            "Looking in indexes: https://pypi.org/simple, https://us-python.pkg.dev/colab-wheels/public/simple/\n",
            "Requirement already satisfied: pandas in /usr/local/lib/python3.9/dist-packages (1.4.4)\n",
            "Requirement already satisfied: pytz>=2020.1 in /usr/local/lib/python3.9/dist-packages (from pandas) (2022.7.1)\n",
            "Requirement already satisfied: python-dateutil>=2.8.1 in /usr/local/lib/python3.9/dist-packages (from pandas) (2.8.2)\n",
            "Requirement already satisfied: numpy>=1.18.5 in /usr/local/lib/python3.9/dist-packages (from pandas) (1.22.4)\n",
            "Requirement already satisfied: six>=1.5 in /usr/local/lib/python3.9/dist-packages (from python-dateutil>=2.8.1->pandas) (1.16.0)\n",
            "Looking in indexes: https://pypi.org/simple, https://us-python.pkg.dev/colab-wheels/public/simple/\n",
            "Requirement already satisfied: nltk in /usr/local/lib/python3.9/dist-packages (3.8.1)\n",
            "Requirement already satisfied: regex>=2021.8.3 in /usr/local/lib/python3.9/dist-packages (from nltk) (2022.10.31)\n",
            "Requirement already satisfied: tqdm in /usr/local/lib/python3.9/dist-packages (from nltk) (4.65.0)\n",
            "Requirement already satisfied: joblib in /usr/local/lib/python3.9/dist-packages (from nltk) (1.1.1)\n",
            "Requirement already satisfied: click in /usr/local/lib/python3.9/dist-packages (from nltk) (8.1.3)\n",
            "Looking in indexes: https://pypi.org/simple, https://us-python.pkg.dev/colab-wheels/public/simple/\n",
            "Collecting sklearn\n",
            "  Downloading sklearn-0.0.post1.tar.gz (3.6 kB)\n",
            "  \u001b[1;31merror\u001b[0m: \u001b[1msubprocess-exited-with-error\u001b[0m\n",
            "  \n",
            "  \u001b[31m×\u001b[0m \u001b[32mpython setup.py egg_info\u001b[0m did not run successfully.\n",
            "  \u001b[31m│\u001b[0m exit code: \u001b[1;36m1\u001b[0m\n",
            "  \u001b[31m╰─>\u001b[0m See above for output.\n",
            "  \n",
            "  \u001b[1;35mnote\u001b[0m: This error originates from a subprocess, and is likely not a problem with pip.\n",
            "  Preparing metadata (setup.py) ... \u001b[?25l\u001b[?25herror\n",
            "\u001b[1;31merror\u001b[0m: \u001b[1mmetadata-generation-failed\u001b[0m\n",
            "\n",
            "\u001b[31m×\u001b[0m Encountered error while generating package metadata.\n",
            "\u001b[31m╰─>\u001b[0m See above for output.\n",
            "\n",
            "\u001b[1;35mnote\u001b[0m: This is an issue with the package mentioned above, not pip.\n",
            "\u001b[1;36mhint\u001b[0m: See above for details.\n",
            "Looking in indexes: https://pypi.org/simple, https://us-python.pkg.dev/colab-wheels/public/simple/\n",
            "Requirement already satisfied: matplotlib in /usr/local/lib/python3.9/dist-packages (3.7.1)\n",
            "Requirement already satisfied: python-dateutil>=2.7 in /usr/local/lib/python3.9/dist-packages (from matplotlib) (2.8.2)\n",
            "Requirement already satisfied: pillow>=6.2.0 in /usr/local/lib/python3.9/dist-packages (from matplotlib) (8.4.0)\n",
            "Requirement already satisfied: pyparsing>=2.3.1 in /usr/local/lib/python3.9/dist-packages (from matplotlib) (3.0.9)\n",
            "Requirement already satisfied: contourpy>=1.0.1 in /usr/local/lib/python3.9/dist-packages (from matplotlib) (1.0.7)\n",
            "Requirement already satisfied: numpy>=1.20 in /usr/local/lib/python3.9/dist-packages (from matplotlib) (1.22.4)\n",
            "Requirement already satisfied: fonttools>=4.22.0 in /usr/local/lib/python3.9/dist-packages (from matplotlib) (4.39.3)\n",
            "Requirement already satisfied: importlib-resources>=3.2.0 in /usr/local/lib/python3.9/dist-packages (from matplotlib) (5.12.0)\n",
            "Requirement already satisfied: kiwisolver>=1.0.1 in /usr/local/lib/python3.9/dist-packages (from matplotlib) (1.4.4)\n",
            "Requirement already satisfied: packaging>=20.0 in /usr/local/lib/python3.9/dist-packages (from matplotlib) (23.0)\n",
            "Requirement already satisfied: cycler>=0.10 in /usr/local/lib/python3.9/dist-packages (from matplotlib) (0.11.0)\n",
            "Requirement already satisfied: zipp>=3.1.0 in /usr/local/lib/python3.9/dist-packages (from importlib-resources>=3.2.0->matplotlib) (3.15.0)\n",
            "Requirement already satisfied: six>=1.5 in /usr/local/lib/python3.9/dist-packages (from python-dateutil>=2.7->matplotlib) (1.16.0)\n"
          ]
        }
      ],
      "source": [
        "!pip install pandas\n",
        "!pip install nltk\n",
        "!pip install sklearn\n",
        "!pip install matplotlib"
      ]
    },
    {
      "cell_type": "code",
      "execution_count": 2,
      "id": "ad52ba4e",
      "metadata": {
        "colab": {
          "base_uri": "https://localhost:8080/"
        },
        "id": "ad52ba4e",
        "outputId": "b845f6ae-e861-4953-9481-c3eb506e2480"
      },
      "outputs": [
        {
          "output_type": "stream",
          "name": "stderr",
          "text": [
            "/usr/local/lib/python3.9/dist-packages/torch/cuda/__init__.py:497: UserWarning: Can't initialize NVML\n",
            "  warnings.warn(\"Can't initialize NVML\")\n"
          ]
        }
      ],
      "source": [
        "import pandas as pd\n",
        "import matplotlib.pyplot as plt\n",
        "from nltk.corpus.reader import ConllCorpusReader\n",
        "from sklearn.feature_extraction import DictVectorizer\n",
        "from sklearn import svm\n",
        "from sklearn.metrics import classification_report\n",
        "import spacy\n",
        "import gensim"
      ]
    },
    {
      "cell_type": "markdown",
      "id": "8da34cd0",
      "metadata": {
        "id": "8da34cd0"
      },
      "source": [
        "## Train set"
      ]
    },
    {
      "cell_type": "code",
      "execution_count": 5,
      "id": "160e7132",
      "metadata": {
        "id": "160e7132"
      },
      "outputs": [],
      "source": [
        "from nltk.corpus.reader import ConllCorpusReader\n",
        "train = ConllCorpusReader('/content/', 'conllpp_train.txt', ['words', 'pos', 'ignore', 'chunk'])\n",
        "training_features = []\n",
        "training_gold_labels = []\n",
        "for token, pos, ne_label in train.iob_words():\n",
        "    a_dict = {\n",
        "        # add features\n",
        "        'words': token,\n",
        "        'pos': pos\n",
        "    }\n",
        "    training_features.append(a_dict)\n",
        "    training_gold_labels.append(ne_label)"
      ]
    },
    {
      "cell_type": "markdown",
      "id": "f6ed500d",
      "metadata": {
        "id": "f6ed500d"
      },
      "source": [
        "## Test set"
      ]
    },
    {
      "cell_type": "code",
      "execution_count": 71,
      "id": "0d3f83d1",
      "metadata": {
        "id": "0d3f83d1"
      },
      "outputs": [],
      "source": [
        "data = pd.read_csv(\"/content/NER-final-test.tsv\",sep='\\t')\n",
        "test = pd.DataFrame(data, columns=['token','NER','BIO', 'tag'])\n",
        "test.columns = ['words','pos','ignore','chunk']"
      ]
    },
    {
      "cell_type": "code",
      "execution_count": 12,
      "id": "06257cce",
      "metadata": {
        "id": "06257cce"
      },
      "outputs": [],
      "source": [
        "nlp = spacy.load('en_core_web_sm')\n",
        "# Apply spacy to find the named entities.\n",
        "def ner(df):\n",
        "    df['pos'] = df['words'].apply(lambda x: [token.pos_ for token in nlp(x) if not token.is_space])\n",
        "    df['ignore'] = df['words'].apply(lambda x: [token.tag_ for token in nlp(x) if not token.is_space])\n",
        "    df['chunk'] = df['words'].apply(lambda x: [(token.ent_iob_ + '-' + token.ent_type_ if token.ent_iob_ != 'O' else 'O') if not token.is_space else ('','') for token in nlp(x)])\n",
        "    return df\n",
        "ner_table = ner(test)"
      ]
    },
    {
      "cell_type": "code",
      "execution_count": 13,
      "id": "bd4ee165",
      "metadata": {
        "id": "bd4ee165"
      },
      "outputs": [],
      "source": [
        "def list_to_str(lst):\n",
        "    return ' '.join([str(elem) for elem in lst])\n",
        "\n",
        "ner_table['pos'] = ner_table['pos'].apply(list_to_str)\n",
        "ner_table['ignore'] = ner_table['ignore'].apply(list_to_str)\n",
        "ner_table['chunk'] = ner_table['chunk'].apply(list_to_str)"
      ]
    },
    {
      "cell_type": "code",
      "execution_count": 14,
      "id": "5bbebb62",
      "metadata": {
        "colab": {
          "base_uri": "https://localhost:8080/"
        },
        "id": "5bbebb62",
        "outputId": "a37b1386-9fda-4158-a6a0-c774f3edb0f8"
      },
      "outputs": [
        {
          "output_type": "execute_result",
          "data": {
            "text/plain": [
              "array(['O', 'B-CARDINAL', 'B-DATE', 'B-ORG', 'B-NORP', 'B-PERSON',\n",
              "       'B-GPE', 'B-ORDINAL', 'B-LANGUAGE'], dtype=object)"
            ]
          },
          "metadata": {},
          "execution_count": 14
        }
      ],
      "source": [
        "ner_table['chunk'].unique()"
      ]
    },
    {
      "cell_type": "code",
      "execution_count": 15,
      "id": "66c55675",
      "metadata": {
        "id": "66c55675"
      },
      "outputs": [],
      "source": [
        "test['chunk'] = test['chunk'].apply(lambda i: 'B-MISC' if i in ['B-CARDINAL', 'B-DATE', 'B-NORP', 'B-ORDINAL', 'B-LANGUAGE'] else i)\n",
        "test['chunk'] = test['chunk'].apply(lambda i: 'B-LOC' if i == 'B-GPE' else i)\n",
        "test['chunk'] = test['chunk'].apply(lambda i: 'B-PER' if i == 'B-PERSON' else i)"
      ]
    },
    {
      "cell_type": "code",
      "execution_count": 16,
      "id": "ef9d5bbf",
      "metadata": {
        "id": "ef9d5bbf"
      },
      "outputs": [],
      "source": [
        "test_features = []\n",
        "test_gold_labels = []\n",
        "for index, row in test.iterrows():\n",
        "    a_dict = {\n",
        "        # add features\n",
        "        'words': row['words'],\n",
        "        'pos': row['pos']\n",
        "    }\n",
        "    test_features.append(a_dict)\n",
        "    test_gold_labels.append(row['chunk'])"
      ]
    },
    {
      "cell_type": "markdown",
      "id": "261416cc",
      "metadata": {
        "id": "261416cc"
      },
      "source": [
        "### Descriptive statistics about the training and test data"
      ]
    },
    {
      "cell_type": "code",
      "execution_count": 56,
      "id": "6368b358",
      "metadata": {
        "colab": {
          "base_uri": "https://localhost:8080/"
        },
        "id": "6368b358",
        "outputId": "f77311b7-c227-4b58-d2af-c83a7cc6f556"
      },
      "outputs": [
        {
          "output_type": "stream",
          "name": "stdout",
          "text": [
            "Training instances: 203621\n",
            "Of which the label distribution is:\n",
            "\t O      :  169578 (83.281%)\n",
            "\t B-LOC  :    7140 (3.507%)\n",
            "\t B-PER  :    6600 (3.241%)\n",
            "\t B-ORG  :    6321 (3.104%)\n",
            "\t I-PER  :    4528 (2.224%)\n",
            "\t I-ORG  :    3704 (1.819%)\n",
            "\t B-MISC :    3438 (1.688%)\n",
            "\t I-LOC  :    1157 (0.568%)\n",
            "\t I-MISC :    1155 (0.567%)\n",
            "\n",
            "Testing instances: 214\n",
            "Of which the label distribution is:\n",
            "\t O      :     195 (91.121%)\n",
            "\t B-MISC :      10 (4.673%)\n",
            "\t B-LOC  :       4 (1.869%)\n",
            "\t B-ORG  :       3 (1.402%)\n",
            "\t B-PER  :       2 (0.935%)\n",
            "\n",
            "Training and test data balance analysis:\n",
            "\t B-ORG: train 6321 (3.104%), test 3 (1.40%)\n",
            "\t O: train 169578 (83.281%), test 195 (91.12%)\n",
            "\t B-MISC: train 3438 (1.688%), test 10 (4.67%)\n",
            "\t B-PER: train 6600 (3.241%), test 2 (0.93%)\n",
            "\t I-PER: train 4528 (2.224%), test 0 (0.00%)\n",
            "\t B-LOC: train 7140 (3.507%), test 4 (1.87%)\n",
            "\t I-ORG: train 3704 (1.819%), test 0 (0.00%)\n",
            "\t I-MISC: train 1155 (0.567%), test 0 (0.00%)\n",
            "\t I-LOC: train 1157 (0.568%), test 0 (0.00%)\n"
          ]
        }
      ],
      "source": [
        "from collections import Counter\n",
        "# Descriptive statistics\n",
        "for tt, features, gold_labels in [('train', training_features, training_gold_labels), ('test', test_features, test_gold_labels)]:\n",
        "    print(f\"{tt.title()}ing instances: {len(features)}\")\n",
        "    print(\"Of which the label distribution is:\")\n",
        "    label_distribution = Counter(gold_labels)\n",
        "    for l, i in sorted(label_distribution.items(), key=lambda x: x[1], reverse=True):\n",
        "        percentage = i / len(features) * 100\n",
        "        print(f\"\\t {l:7}: {i:7} ({percentage:.3f}%)\")\n",
        "    print()\n",
        "\n",
        "# Balance analysis\n",
        "train_label_distribution = Counter(training_gold_labels)\n",
        "test_label_distribution = Counter(test_gold_labels)\n",
        "print(\"Training and test data balance analysis:\")\n",
        "for label in train_label_distribution:\n",
        "    train_count = train_label_distribution[label]\n",
        "    test_count = test_label_distribution.get(label, 0)\n",
        "    print(f\"\\t {label}: train {train_count} ({train_count/len(training_features)*100:.3f}%)\" \\\n",
        "          f\", test {test_count} ({test_count/len(test_features)*100:.2f}%)\")\n"
      ]
    },
    {
      "cell_type": "markdown",
      "source": [
        "### Label distribution of the training set"
      ],
      "metadata": {
        "id": "LgklcIixKtrW"
      },
      "id": "LgklcIixKtrW"
    },
    {
      "cell_type": "code",
      "source": [
        "label_list = list(training_gold_labels)\n",
        "sizes = list(train_label_distribution.values())\n",
        "labels = [*Counter(label_list)]\n",
        "fig, ax = plt.subplots()\n",
        "ax.pie(sizes, labels=labels, autopct='%1.1f%%',\n",
        "       pctdistance=1.25, labeldistance=.6)\n",
        "plt.title(\"Training label distribution\")\n",
        "plt.show()"
      ],
      "metadata": {
        "colab": {
          "base_uri": "https://localhost:8080/",
          "height": 428
        },
        "id": "8f5UXQ5OrU0b",
        "outputId": "c7606b23-35e7-460e-d294-9dacc2094e02"
      },
      "id": "8f5UXQ5OrU0b",
      "execution_count": 57,
      "outputs": [
        {
          "output_type": "display_data",
          "data": {
            "text/plain": [
              "<Figure size 640x480 with 1 Axes>"
            ],
            "image/png": "[encoded data removed]"
          },
          "metadata": {}
        }
      ]
    },
    {
      "cell_type": "markdown",
      "source": [
        "### Label distribution of the test set"
      ],
      "metadata": {
        "id": "UHcXXKPxK6BJ"
      },
      "id": "UHcXXKPxK6BJ"
    },
    {
      "cell_type": "code",
      "source": [
        "test_label_list = list(test_gold_labels)\n",
        "test_sizes = list(test_label_distribution.values())\n",
        "test_labels = [*Counter(test_label_list)]\n",
        "fig, ax = plt.subplots()\n",
        "ax.pie(test_sizes, labels=test_labels, autopct='%1.1f%%',\n",
        "       pctdistance=1.25, labeldistance=.6)\n",
        "plt.title(\"Test label distribution\")\n",
        "plt.show()"
      ],
      "metadata": {
        "colab": {
          "base_uri": "https://localhost:8080/",
          "height": 428
        },
        "id": "QNr15VGXK9b4",
        "outputId": "8ac5bb03-5dd9-4f1d-a8fb-6cba8a802f11"
      },
      "id": "QNr15VGXK9b4",
      "execution_count": 68,
      "outputs": [
        {
          "output_type": "display_data",
          "data": {
            "text/plain": [
              "<Figure size 640x480 with 1 Axes>"
            ],
            "image/png": "[encoded data removed]"
          },
          "metadata": {}
        }
      ]
    },
    {
      "cell_type": "markdown",
      "id": "2d54f5b1",
      "metadata": {
        "id": "2d54f5b1"
      },
      "source": [
        "### LinearSVC"
      ]
    },
    {
      "cell_type": "code",
      "execution_count": 18,
      "id": "4fb3d5b7",
      "metadata": {
        "id": "4fb3d5b7"
      },
      "outputs": [],
      "source": [
        "vec = DictVectorizer()\n",
        "the_array = vec.fit_transform(training_features + test_features)\n",
        "predit_train = the_array[:len(training_features)]\n",
        "predit_test = the_array[len(training_features):]"
      ]
    },
    {
      "cell_type": "code",
      "execution_count": 19,
      "id": "6a7e794b",
      "metadata": {
        "colab": {
          "base_uri": "https://localhost:8080/"
        },
        "id": "6a7e794b",
        "outputId": "5688b48b-2ba0-48f3-d890-6ba6c60ed2a3"
      },
      "outputs": [
        {
          "output_type": "stream",
          "name": "stdout",
          "text": [
            "              precision    recall  f1-score   support\n",
            "\n",
            "       B-LOC       1.00      0.25      0.40         4\n",
            "      B-MISC       1.00      0.30      0.46        10\n",
            "       B-ORG       0.00      0.00      0.00         3\n",
            "       B-PER       0.67      1.00      0.80         2\n",
            "      I-MISC       0.00      0.00      0.00         0\n",
            "       I-ORG       0.00      0.00      0.00         0\n",
            "           O       0.95      0.99      0.97       195\n",
            "\n",
            "    accuracy                           0.93       214\n",
            "   macro avg       0.52      0.36      0.38       214\n",
            "weighted avg       0.93      0.93      0.92       214\n",
            "\n"
          ]
        },
        {
          "output_type": "stream",
          "name": "stderr",
          "text": [
            "/usr/local/lib/python3.9/dist-packages/sklearn/metrics/_classification.py:1344: UndefinedMetricWarning: Precision and F-score are ill-defined and being set to 0.0 in labels with no predicted samples. Use `zero_division` parameter to control this behavior.\n",
            "  _warn_prf(average, modifier, msg_start, len(result))\n",
            "/usr/local/lib/python3.9/dist-packages/sklearn/metrics/_classification.py:1344: UndefinedMetricWarning: Recall and F-score are ill-defined and being set to 0.0 in labels with no true samples. Use `zero_division` parameter to control this behavior.\n",
            "  _warn_prf(average, modifier, msg_start, len(result))\n",
            "/usr/local/lib/python3.9/dist-packages/sklearn/metrics/_classification.py:1344: UndefinedMetricWarning: Precision and F-score are ill-defined and being set to 0.0 in labels with no predicted samples. Use `zero_division` parameter to control this behavior.\n",
            "  _warn_prf(average, modifier, msg_start, len(result))\n",
            "/usr/local/lib/python3.9/dist-packages/sklearn/metrics/_classification.py:1344: UndefinedMetricWarning: Recall and F-score are ill-defined and being set to 0.0 in labels with no true samples. Use `zero_division` parameter to control this behavior.\n",
            "  _warn_prf(average, modifier, msg_start, len(result))\n",
            "/usr/local/lib/python3.9/dist-packages/sklearn/metrics/_classification.py:1344: UndefinedMetricWarning: Precision and F-score are ill-defined and being set to 0.0 in labels with no predicted samples. Use `zero_division` parameter to control this behavior.\n",
            "  _warn_prf(average, modifier, msg_start, len(result))\n",
            "/usr/local/lib/python3.9/dist-packages/sklearn/metrics/_classification.py:1344: UndefinedMetricWarning: Recall and F-score are ill-defined and being set to 0.0 in labels with no true samples. Use `zero_division` parameter to control this behavior.\n",
            "  _warn_prf(average, modifier, msg_start, len(result))\n"
          ]
        }
      ],
      "source": [
        "lin_clf = svm.LinearSVC()\n",
        "lin_clf.fit(predit_train, training_gold_labels)\n",
        "print(classification_report(test_gold_labels, lin_clf.predict(predit_test)))"
      ]
    }
  ],
  "metadata": {
    "kernelspec": {
      "display_name": "Python 3 (ipykernel)",
      "language": "python",
      "name": "python3"
    },
    "language_info": {
      "codemirror_mode": {
        "name": "ipython",
        "version": 3
      },
      "file_extension": ".py",
      "mimetype": "text/x-python",
      "name": "python",
      "nbconvert_exporter": "python",
      "pygments_lexer": "ipython3",
      "version": "3.7.6"
    },
    "colab": {
      "provenance": []
    }
  },
  "nbformat": 4,
  "nbformat_minor": 5
}